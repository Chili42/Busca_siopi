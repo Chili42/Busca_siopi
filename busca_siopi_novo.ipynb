{
 "cells": [
  {
   "cell_type": "code",
   "execution_count": 1,
   "metadata": {},
   "outputs": [],
   "source": [
    "from selenium import webdriver\n",
    "from selenium.webdriver.common.keys import Keys\n",
    "import os\n",
    "from time import sleep\n",
    "import pyautogui\n",
    "from bs4 import BeautifulSoup\n",
    "import pandas as pd\n",
    "import getpass"
   ]
  },
  {
   "cell_type": "code",
   "execution_count": 2,
   "metadata": {},
   "outputs": [],
   "source": [
    "df_base = None\n",
    "def login_SIOPI(matricula, senha):\n",
    "    browser = webdriver.Firefox(executable_path='drivers/geckodriver.exe')\n",
    "\n",
    "    url = 'http://siopi.caixa/siopi-web/'\n",
    "\n",
    "    browser.get(url)\n",
    "    browser.implicitly_wait(30)\n",
    "    browser.maximize_window()\n",
    "    form_usuario = browser.find_element_by_id('username')\n",
    "    form_usuario.send_keys(matricula)\n",
    "\n",
    "    form_senha = browser.find_element_by_id('password')\n",
    "    form_senha.send_keys(senha)\n",
    "\n",
    "    botao_login = browser.find_element_by_id('btn_login')\n",
    "    botao_login.click()\n",
    "\n",
    "    return browser"
   ]
  },
  {
   "cell_type": "code",
   "execution_count": 5,
   "metadata": {},
   "outputs": [
    {
     "name": "stdout",
     "output_type": "stream",
     "text": [
      "Digite sua matrícula: c098453\n",
      "Digite sua senha: ········\n"
     ]
    }
   ],
   "source": [
    "# main\n",
    "matricula = input('Digite sua matrícula: ')\n",
    "senha = getpass.getpass('Digite sua senha: ')\n",
    "\n",
    "browser = login_SIOPI(matricula, senha)"
   ]
  },
  {
   "cell_type": "code",
   "execution_count": 4,
   "metadata": {},
   "outputs": [],
   "source": [
    "browser.switch_to.frame(0)\n",
    "browser.find_element_by_xpath('/html/body/nav/button/i').click()\n",
    "sleep(1)\n",
    "pyautogui.click(190,320)\n",
    "sleep(1)\n",
    "pyautogui.click(326,147)\n",
    "sleep(1)\n",
    "pyautogui.click(668,154)"
   ]
  },
  {
   "cell_type": "code",
   "execution_count": 5,
   "metadata": {},
   "outputs": [],
   "source": [
    "browser.find_element_by_xpath('/html/body/div[1]/div[1]/form/fieldset/table/tbody/tr[2]/td[2]/input').clear()\n",
    "browser.find_element_by_xpath('/html/body/div[1]/div[1]/form/fieldset/table/tbody/tr[8]/td[2]/input').send_keys('00360305430389')\n",
    "browser.find_element_by_xpath('/html/body/div[1]/div[1]/form/fieldset/table/tbody/tr[9]/td[2]/input[1]').send_keys('01012020')\n",
    "browser.find_element_by_xpath('/html/body/div[1]/div[1]/form/fieldset/table/tbody/tr[9]/td[2]/img[2]').click()\n",
    "browser.find_element_by_xpath('/html/body/div[1]/div[1]/form/fieldset/table/tbody/tr[9]/td[2]/input[2]').send_keys(Keys.ENTER)\n",
    "sleep(1)\n",
    "browser.find_element_by_xpath('/html/body/div[1]/div[2]/a').click()"
   ]
  },
  {
   "cell_type": "code",
   "execution_count": 6,
   "metadata": {},
   "outputs": [],
   "source": [
    "browser.switch_to.frame(0)\n",
    "html = browser.page_source\n",
    "df = pd.read_html(html)[0].iloc[:-1]\n",
    "tabela = df[[\"IDENTIFICAÇÃO DA DEMANDA\", \"SITUAÇÃO DA DEMANDA\", \"DATA DA ABERTURA\"]]\n",
    "if(df_base is None):\n",
    "    df_base = tabela\n",
    "else:\n",
    "    df_base = pd.concat([df_base, tabela], axis=0, join='outer', ignore_index=True)\n",
    "browser.find_element_by_xpath('/html/body/div[1]/div[3]/a').click()\n",
    "sleep(2)"
   ]
  },
  {
   "cell_type": "code",
   "execution_count": 7,
   "metadata": {},
   "outputs": [
    {
     "data": {
      "text/plain": [
       "2243"
      ]
     },
     "execution_count": 7,
     "metadata": {},
     "output_type": "execute_result"
    }
   ],
   "source": [
    "i = 1\n",
    "while i < 2:\n",
    "    try:\n",
    "        html = browser.page_source\n",
    "        df = pd.read_html(html)[0].iloc[:-1]\n",
    "        tabela = df[[\"IDENTIFICAÇÃO DA DEMANDA\", \"SITUAÇÃO DA DEMANDA\", \"DATA DA ABERTURA\"]]\n",
    "        if(df_base is None):\n",
    "            df_base = tabela\n",
    "        else:\n",
    "            df_base = pd.concat([df_base, tabela], axis=0, join='outer', ignore_index=True)\n",
    "        browser.find_element_by_xpath('/html/body/div[1]/div[3]/a[2]').click()\n",
    "        sleep(8)\n",
    "    except:\n",
    "        i = 3\n",
    "df_base.to_csv('./csv/laudoscompleto2.csv', sep=';', index = False, encoding = 'utf-8-sig')\n",
    "len(df_base)"
   ]
  },
  {
   "cell_type": "code",
   "execution_count": null,
   "metadata": {},
   "outputs": [],
   "source": []
  }
 ],
 "metadata": {
  "kernelspec": {
   "display_name": "Python 3",
   "language": "python",
   "name": "python3"
  },
  "language_info": {
   "codemirror_mode": {
    "name": "ipython",
    "version": 3
   },
   "file_extension": ".py",
   "mimetype": "text/x-python",
   "name": "python",
   "nbconvert_exporter": "python",
   "pygments_lexer": "ipython3",
   "version": "3.6.0"
  }
 },
 "nbformat": 4,
 "nbformat_minor": 4
}
